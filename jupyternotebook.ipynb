{
 "cells": [
  {
   "cell_type": "markdown",
   "id": "af696b89-219d-46f0-b866-36693ab41f56",
   "metadata": {},
   "source": [
    "DAI 101 ASSIGNMENT-1\n",
    "MILIN SHARMA\n",
    "23118045\n",
    "METALLURGICAL AND MATERIALS ENGINEERING"
   ]
  },
  {
   "cell_type": "markdown",
   "id": "925add2d",
   "metadata": {},
   "source": [
    "here i took a csv from kaggle which gives average income of countries from 2000 to 2023 and performed some actions to visualize and analyse the data to gain some insights which are not commonly visible by seeing the data directly"
   ]
  },
  {
   "cell_type": "code",
   "execution_count": 9,
   "id": "648a997d-c518-42a6-8756-eceaa1b83c75",
   "metadata": {},
   "outputs": [],
   "source": [
    "import pandas as pd # for  data handling\n",
    "import numpy as np  # for calculations\n",
    "import matplotlib.pyplot as plt # for data visualization\n",
    "import seaborn as sns # plotting"
   ]
  },
  {
   "cell_type": "code",
   "execution_count": 10,
   "id": "e5808846-9c3a-47ac-af17-eb04a3976894",
   "metadata": {},
   "outputs": [],
   "source": [
    "df = pd.read_csv(\"global_income_inequality.csv\") # read the dataset"
   ]
  },
  {
   "cell_type": "code",
   "execution_count": null,
   "id": "79ac0ffd-91a7-469f-bb6b-849ec1be53e7",
   "metadata": {},
   "outputs": [],
   "source": [
    "df.head(4) # prints the top 4 rows"
   ]
  },
  {
   "cell_type": "code",
   "execution_count": null,
   "id": "832f52cd-715a-492c-b9a6-aa444e50d67b",
   "metadata": {
    "scrolled": true
   },
   "outputs": [],
   "source": [
    "df.info()"
   ]
  },
  {
   "cell_type": "markdown",
   "id": "6ccff3cf-b2e6-4368-9948-dd1fd3bead5c",
   "metadata": {},
   "source": [
    "UNIVARIATE ANALYSIS"
   ]
  },
  {
   "cell_type": "code",
   "execution_count": null,
   "id": "aef27248-bef1-4df7-bb3f-092c1b8b93ab",
   "metadata": {},
   "outputs": [],
   "source": [
    "average_income_by_country = df.groupby('Country')['Average Income (USD)'].mean().sort_values(ascending=False)\n",
    "print(average_income_by_country)"
   ]
  },
  {
   "cell_type": "code",
   "execution_count": null,
   "id": "9ade2216-577c-4c75-9ba5-ec7d64ee7d5d",
   "metadata": {},
   "outputs": [],
   "source": [
    "income_group_distribution = df['Income Group'].value_counts()\n",
    "print(income_group_distribution)"
   ]
  },
  {
   "cell_type": "code",
   "execution_count": null,
   "id": "2152d1a4-4454-4e39-927c-83cea1ce7f47",
   "metadata": {},
   "outputs": [],
   "source": [
    "india_data = df[df['Country'] == 'India']\n",
    "\n",
    "plt.figure(figsize=(10, 6))\n",
    "plt.plot(india_data['Year'], india_data['Average Income (USD)'], marker='o', color='red')\n",
    "\n",
    "plt.title('Average Income in India', fontsize=16)\n",
    "plt.xlabel('Year', fontsize=14)\n",
    "plt.ylabel('Average Income (USD)', fontsize=14)\n",
    "plt.grid(True)\n",
    "\n",
    "plt.show()"
   ]
  },
  {
   "cell_type": "code",
   "execution_count": null,
   "id": "2f09cc25-9d91-405e-9d74-30fb3003f2c5",
   "metadata": {},
   "outputs": [],
   "source": [
    "india_data = df[df['Country'] == 'India']\n",
    "\n",
    "plt.figure(figsize=(10, 6))\n",
    "plt.plot(india_data['Year'], india_data['Gini Index'], marker='o', color='red')\n",
    "\n",
    "plt.title('Gini Index in India', fontsize=16)\n",
    "plt.xlabel('Year', fontsize=14)\n",
    "plt.ylabel('Gini Index', fontsize=14)\n",
    "plt.grid(True)\n",
    "\n",
    "plt.show()"
   ]
  },
  {
   "cell_type": "code",
   "execution_count": null,
   "id": "0a7f68f5-beba-4cda-b43b-e316930853e0",
   "metadata": {},
   "outputs": [],
   "source": [
    "plt.figure(figsize=(10, 6))\n",
    "plt.boxplot(df['Average Income (USD)'].dropna(), patch_artist=True, boxprops=dict(facecolor='lightblue'))\n",
    "\n",
    "plt.title('Boxplot of Average Income', fontsize=16)\n",
    "plt.ylabel('Average Income (USD)', fontsize=14)\n",
    "plt.xticks([1], ['Average Income']) \n",
    "plt.grid(True)\n",
    "\n",
    "plt.show()"
   ]
  },
  {
   "cell_type": "code",
   "execution_count": null,
   "id": "1f8ce485-3eb7-449e-bea8-28cea12e5992",
   "metadata": {},
   "outputs": [],
   "source": [
    "plt.figure(figsize=(12, 8))\n",
    "df.boxplot(column='Gini Index', by='Country', grid=False, patch_artist=True, boxprops=dict(facecolor='skyblue'))\n",
    "\n",
    "plt.title('Gini Index by Country', fontsize=16)\n",
    "plt.suptitle('')  \n",
    "plt.ylabel('Gini Index', fontsize=14)\n",
    "plt.xticks(rotation=90)  \n",
    "plt.grid(True)\n",
    "\n",
    "plt.show()"
   ]
  },
  {
   "cell_type": "code",
   "execution_count": null,
   "id": "95e190eb-37bc-4d06-a60a-bbdc96e23640",
   "metadata": {},
   "outputs": [],
   "source": [
    "data_2023 = df[df['Year'] == 2023]\n",
    "\n",
    "plt.figure(figsize=(12, 8))\n",
    "plt.bar(data_2023['Country'], data_2023['Average Income (USD)'], color='skyblue')\n",
    "\n",
    "plt.title('Average Income by Country in 2023', fontsize=16)\n",
    "plt.xlabel('Country', fontsize=14)\n",
    "plt.ylabel('Average Income (USD)', fontsize=14)\n",
    "plt.xticks(rotation=90) \n",
    "plt.grid(axis='y')\n",
    "\n",
    "plt.tight_layout() \n",
    "plt.show()"
   ]
  },
  {
   "cell_type": "code",
   "execution_count": null,
   "id": "17c8d17f-7621-4175-a04b-275387e5732e",
   "metadata": {},
   "outputs": [],
   "source": [
    "income_group_counts = df['Income Group'].value_counts()\n",
    "print(\"Frequency Distribution Table for Income Group:\")\n",
    "print(income_group_counts)\n",
    "plt.figure(figsize=(8, 6))\n",
    "income_group_counts.plot(kind='pie', autopct='%1.1f%%', startangle=90, colors=sns.color_palette(\"pastel\"))\n",
    "plt.title('Income Group Distribution', fontsize=16)\n",
    "plt.ylabel('')  \n",
    "plt.show()"
   ]
  },
  {
   "cell_type": "code",
   "execution_count": null,
   "id": "9c42ea43-32d6-4a0c-913e-0a3cabc4fffa",
   "metadata": {},
   "outputs": [],
   "source": [
    "#Outlier Detection using IQR\n",
    "Q1 = df['Average Income (USD)'].quantile(0.25)\n",
    "Q3 = df['Average Income (USD)'].quantile(0.75)\n",
    "IQR = Q3 - Q1\n",
    "lower_bound = Q1 - 1.5 * IQR\n",
    "upper_bound = Q3 + 1.5 * IQR\n",
    "\n",
    "outliers = df[(df['Average Income (USD)'] < lower_bound) | (df['Average Income (USD)'] > upper_bound)]\n",
    "\n",
    "plt.figure(figsize=(10, 6))\n",
    "sns.boxplot(x=df['Average Income (USD)'], color='lightgreen')\n",
    "plt.title('Boxplot of Average Income with Outliers', fontsize=16)\n",
    "plt.xlabel('Average Income (USD)', fontsize=14)\n",
    "plt.grid(True)\n",
    "plt.show()"
   ]
  },
  {
   "cell_type": "code",
   "execution_count": null,
   "id": "84db18f6-1e66-4417-9976-941e98e588a3",
   "metadata": {},
   "outputs": [],
   "source": [
    "mean_income = df.groupby('Income Group')['Average Income (USD)'].mean()\n",
    "std_income = df.groupby('Income Group')['Average Income (USD)'].std()\n",
    "\n",
    "plt.figure(figsize=(10, 6))\n",
    "mean_income.plot(kind='bar', yerr=std_income, color='lightblue', capsize=5)\n",
    "plt.title('Average Income by Income Group with Error Bars', fontsize=16)\n",
    "plt.xlabel('Income Group', fontsize=14)\n",
    "plt.ylabel('Average Income (USD)', fontsize=14)\n",
    "plt.xticks(rotation=45)\n",
    "plt.grid(axis='y')\n",
    "plt.show()"
   ]
  },
  {
   "cell_type": "code",
   "execution_count": null,
   "id": "8f4a1924-a6ee-46ab-9268-23bc4de2dfe3",
   "metadata": {},
   "outputs": [],
   "source": [
    "plt.figure(figsize=(10, 6))\n",
    "sns.kdeplot(data=df, x='Average Income (USD)', hue='Income Group', fill=True, common_norm=False, alpha=0.5)\n",
    "plt.title('Average Income by Income Group', fontsize=16)\n",
    "plt.xlabel('Average Income (USD)', fontsize=14)\n",
    "plt.ylabel('Density', fontsize=14)\n",
    "plt.grid(True)\n",
    "plt.show()\n"
   ]
  },
  {
   "cell_type": "code",
   "execution_count": null,
   "id": "c70184d1-447b-46fc-8637-5c46329aadf6",
   "metadata": {},
   "outputs": [],
   "source": [
    "mean_income = df.groupby('Income Group')['Average Income (USD)'].mean()\n",
    "std_income = df.groupby('Income Group')['Average Income (USD)'].std()\n",
    "n = df.groupby('Income Group')['Average Income (USD)'].count()\n",
    "\n",
    "ci = 1.96 * (std_income / np.sqrt(n))\n",
    "\n",
    "plt.figure(figsize=(10, 6))\n",
    "mean_income.plot(kind='bar', yerr=ci, capsize=5, color='lightblue')\n",
    "plt.title('Average Income by Income Group with 95% CI', fontsize=16)\n",
    "plt.xlabel('Income Group', fontsize=14)\n",
    "plt.ylabel('Average Income (USD)', fontsize=14)\n",
    "plt.xticks(rotation=45)\n",
    "plt.grid(axis='y')\n",
    "plt.show()"
   ]
  },
  {
   "cell_type": "code",
   "execution_count": null,
   "id": "90c27dbd-0d64-4db6-a81e-eeedf9065789",
   "metadata": {},
   "outputs": [],
   "source": [
    "Q1 = df['Gini Index'].quantile(0.25)\n",
    "Q3 = df['Gini Index'].quantile(0.75)\n",
    "IQR = Q3 - Q1\n",
    "lower_bound = Q1 - 1.5 * IQR\n",
    "upper_bound = Q3 + 1.5 * IQR\n",
    "\n",
    "outliers = df[(df['Gini Index'] < lower_bound) | (df['Gini Index'] > upper_bound)]\n",
    "print(f\"\\nOutliers in Gini Index:\\n{outliers}\")\n",
    "\n",
    "plt.figure(figsize=(10, 6))\n",
    "sns.boxplot(y=df['Gini Index'], color='lightblue')\n",
    "plt.scatter(outliers.index, outliers['Gini Index'], color='red', label='Outliers')\n",
    "plt.title('Boxplot of Gini Index with Outliers', fontsize=16)\n",
    "plt.ylabel('Gini Index', fontsize=14)\n",
    "plt.legend()\n",
    "plt.grid(True)\n",
    "plt.show()"
   ]
  },
  {
   "cell_type": "code",
   "execution_count": null,
   "id": "d0f77717-a7ab-47ec-bce2-61489daa3e8f",
   "metadata": {},
   "outputs": [],
   "source": [
    "#Z-Score for Outlier Detection\n",
    "df['Z-Score'] = (df['Gini Index'] - df['Gini Index'].mean()) / df['Gini Index'].std()\n",
    "outliers_z = df[np.abs(df['Z-Score']) > 3]  \n",
    "\n",
    "plt.figure(figsize=(10, 6))\n",
    "sns.histplot(df['Z-Score'], kde=True, color='skyblue')\n",
    "plt.title('Z-Score Distribution of Gini Index', fontsize=16)\n",
    "plt.xlabel('Z-Score', fontsize=14)\n",
    "plt.ylabel('Frequency', fontsize=14)\n",
    "plt.grid(True)\n",
    "plt.show()\n",
    "\n",
    "print(f\"/nOutliers based on Z-Score:/n{outliers_z[['Year', 'Gini Index', 'Z-Score']]}\")"
   ]
  },
  {
   "cell_type": "code",
   "execution_count": null,
   "id": "4aedd798-c17f-4849-8088-952bde92d2d7",
   "metadata": {},
   "outputs": [],
   "source": [
    "column = 'Gini Index'\n",
    "from scipy.stats import zscore, kurtosis, skew\n",
    "# 1. Skewness\n",
    "gini_skewness = skew(df[column].dropna())\n",
    "print(f\"Skewness of {column}: {gini_skewness}\")\n",
    "\n",
    "# 2. Kurtosis\n",
    "gini_kurtosis = kurtosis(df[column].dropna(), fisher=False)  \n",
    "print(f\"Kurtosis of {column} (using Pearson definition): {gini_kurtosis}\")\n",
    "\n",
    "# 3. Visualizing Skewness and Kurtosis using a distribution plot\n",
    "plt.figure(figsize=(10, 6))\n",
    "sns.histplot(df[column].dropna(), kde=True, color='skyblue')\n",
    "plt.title(f'Distribution of {column}', fontsize=16)\n",
    "plt.xlabel(column, fontsize=14)\n",
    "plt.ylabel('Frequency', fontsize=14)\n",
    "plt.grid(True)\n",
    "plt.show()"
   ]
  },
  {
   "cell_type": "raw",
   "id": "ecb625e5-5196-49ff-8af6-b6f0247108fb",
   "metadata": {},
   "source": [
    "The Gini Index has negative skewness, it suggests that most countries have high inequality, but a few countries with low inequality pull the distribution to the left."
   ]
  },
  {
   "cell_type": "markdown",
   "id": "2098c6f9-db41-4997-a4f5-8969d04ccd62",
   "metadata": {},
   "source": [
    "MULTIVARIATE ANALYSIS"
   ]
  },
  {
   "cell_type": "code",
   "execution_count": null,
   "id": "ca9c55c5-066b-4ea6-8f57-a3fc11463976",
   "metadata": {},
   "outputs": [],
   "source": [
    "#Contingency Table\n",
    "contingency_table = pd.crosstab(df['Income Group'], df['Country'])\n",
    "print(\"\\nContingency Table (Income Group vs Country):\\n\")\n",
    "print(contingency_table)"
   ]
  },
  {
   "cell_type": "code",
   "execution_count": null,
   "id": "cecb6fe2-fe8c-456f-b43e-f9fcd9d8a75d",
   "metadata": {},
   "outputs": [],
   "source": [
    "#Heatmap of Categorical Data (based on the contingency table)\n",
    "plt.figure(figsize=(10, 6))\n",
    "sns.heatmap(contingency_table, annot=True, cmap='coolwarm', fmt='g')\n",
    "plt.title('Heatmap of Income Group vs Country', fontsize=16)\n",
    "plt.xlabel('Country', fontsize=14)\n",
    "plt.ylabel('Income Group', fontsize=14)\n",
    "plt.show()"
   ]
  },
  {
   "cell_type": "raw",
   "id": "42603a95-e305-41a5-88d8-e66816c517c8",
   "metadata": {},
   "source": [
    "#High Concentration of High-Income Countries: The heatmap shows a cluster of dark-colored cells in the High Income category, indicating a concentration of wealth.\n",
    "#Countries Transitioning Income Groups: Certain countries are showing a shift from Lower Middle Income to Upper Middle Income over time , it could suggest economic growth and development."
   ]
  },
  {
   "cell_type": "code",
   "execution_count": null,
   "id": "d143aec7-81d1-4aff-9109-a284c1844505",
   "metadata": {},
   "outputs": [],
   "source": [
    "plt.figure(figsize=(10, 6))\n",
    "sns.countplot(x='Income Group', hue='Country', data=df)\n",
    "plt.title('Clustered Bar Plot of Income Group vs Country', fontsize=16)\n",
    "plt.xlabel('Income Group', fontsize=14)\n",
    "plt.ylabel('Count', fontsize=14)\n",
    "plt.legend(title='Country')\n",
    "plt.xticks(rotation=45)\n",
    "plt.grid(True)\n",
    "plt.show()"
   ]
  },
  {
   "cell_type": "raw",
   "id": "52061754-74c0-4700-9e89-3a9a78c886fb",
   "metadata": {
    "vscode": {
     "languageId": "raw"
    }
   },
   "source": [
    "High-Income Cluster:  \n",
    "Most of the bars representing countries in the High-Income category are noticeably taller than those in the Low-Income category, highlighting the significant disparity in economic prosperity between these groups. This visual difference underscores the concentration of wealth in certain regions, where high-income countries tend to have much larger economies and higher living standards compared to their low-income counterparts. The stark contrast in economic performance between these clusters provides further evidence of the global imbalance in wealth distribution, often tied to regional factors such as resource availability, industrial development, and political stability."
   ]
  },
  {
   "cell_type": "raw",
   "id": "93515e63",
   "metadata": {
    "vscode": {
     "languageId": "raw"
    }
   },
   "source": [
    "Inequality Indicators:  \n",
    "In countries where the average income is high but the Gini index, a measure of income inequality, is also elevated, it signals that wealth, despite being abundant, is unevenly shared among the population. This suggests that while these nations may appear prosperous on the surface, a deeper look reveals significant economic inequality. The concentration of wealth in the hands of a few can create wide disparities in access to opportunities, education, and quality of life, even within affluent countries. This uneven distribution can result in social and economic tensions, as large portions of the population may not fully benefit from the country's overall wealth."
   ]
  }
 ],
 "metadata": {
  "kernelspec": {
   "display_name": "Python 3",
   "language": "python",
   "name": "python3"
  },
  "language_info": {
   "codemirror_mode": {
    "name": "ipython",
    "version": 3
   },
   "file_extension": ".py",
   "mimetype": "text/x-python",
   "name": "python",
   "nbconvert_exporter": "python",
   "pygments_lexer": "ipython3",
   "version": "3.12.2"
  }
 },
 "nbformat": 4,
 "nbformat_minor": 5
}
